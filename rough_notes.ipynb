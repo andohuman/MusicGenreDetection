{
 "cells": [
  {
   "cell_type": "code",
   "execution_count": 1,
   "metadata": {},
   "outputs": [
    {
     "name": "stderr",
     "output_type": "stream",
     "text": [
      "Using TensorFlow backend.\n"
     ]
    }
   ],
   "source": [
    "from keras.layers import Conv1D, Input\n",
    "import numpy as np\n",
    "np.random.seed(1)"
   ]
  },
  {
   "cell_type": "code",
   "execution_count": 135,
   "metadata": {},
   "outputs": [
    {
     "data": {
      "text/plain": [
       "array([[[3, 4, 0, 1],\n",
       "        [3, 0, 0, 1],\n",
       "        [4, 4, 1, 2],\n",
       "        [4, 2, 4, 3],\n",
       "        [4, 2, 4, 2],\n",
       "        [4, 1, 1, 0],\n",
       "        [1, 1, 1, 1],\n",
       "        [0, 4, 1, 0],\n",
       "        [0, 3, 2, 1],\n",
       "        [0, 3, 1, 1]]])"
      ]
     },
     "execution_count": 135,
     "metadata": {},
     "output_type": "execute_result"
    }
   ],
   "source": [
    "inp = np.random.randint(5, size = (1,10, 4))\n",
    "inp\n"
   ]
  },
  {
   "cell_type": "code",
   "execution_count": 6,
   "metadata": {},
   "outputs": [],
   "source": [
    "from keras.models import Model"
   ]
  },
  {
   "cell_type": "code",
   "execution_count": 139,
   "metadata": {},
   "outputs": [],
   "source": [
    "inputs = Input(shape=(10,4))\n",
    "x = Conv1D(2,2,name='yos')(inputs)\n",
    "model = Model(inputs = inputs, outputs = x)"
   ]
  },
  {
   "cell_type": "code",
   "execution_count": 140,
   "metadata": {},
   "outputs": [
    {
     "name": "stdout",
     "output_type": "stream",
     "text": [
      "_________________________________________________________________\n",
      "Layer (type)                 Output Shape              Param #   \n",
      "=================================================================\n",
      "input_21 (InputLayer)        (None, 10, 4)             0         \n",
      "_________________________________________________________________\n",
      "yos (Conv1D)                 (None, 9, 2)              18        \n",
      "=================================================================\n",
      "Total params: 18\n",
      "Trainable params: 18\n",
      "Non-trainable params: 0\n",
      "_________________________________________________________________\n"
     ]
    }
   ],
   "source": [
    "model.summary()"
   ]
  },
  {
   "cell_type": "code",
   "execution_count": 141,
   "metadata": {},
   "outputs": [],
   "source": [
    "def_weight = model.get_layer('yos').get_weights()"
   ]
  },
  {
   "cell_type": "code",
   "execution_count": 142,
   "metadata": {},
   "outputs": [
    {
     "name": "stdout",
     "output_type": "stream",
     "text": [
      "(2, 4, 2)\n"
     ]
    }
   ],
   "source": [
    "print(def_weight[0].shape)"
   ]
  },
  {
   "cell_type": "code",
   "execution_count": 145,
   "metadata": {},
   "outputs": [],
   "source": [
    "weights = []\n",
    "x = np.ones((2,4,2))\n",
    "b = np.zeros((2,))\n",
    "weights.append(x)\n",
    "weights.append(b)\n"
   ]
  },
  {
   "cell_type": "code",
   "execution_count": 146,
   "metadata": {},
   "outputs": [],
   "source": [
    "model.get_layer('yos').set_weights(weights)"
   ]
  },
  {
   "cell_type": "code",
   "execution_count": 147,
   "metadata": {},
   "outputs": [],
   "source": [
    "out = model.predict(inp)"
   ]
  },
  {
   "cell_type": "code",
   "execution_count": 150,
   "metadata": {},
   "outputs": [
    {
     "data": {
      "text/plain": [
       "array([[[12., 12.],\n",
       "        [15., 15.],\n",
       "        [24., 24.],\n",
       "        [25., 25.],\n",
       "        [18., 18.],\n",
       "        [10., 10.],\n",
       "        [ 9.,  9.],\n",
       "        [11., 11.],\n",
       "        [11., 11.]]], dtype=float32)"
      ]
     },
     "execution_count": 150,
     "metadata": {},
     "output_type": "execute_result"
    }
   ],
   "source": [
    "out"
   ]
  },
  {
   "cell_type": "code",
   "execution_count": 151,
   "metadata": {},
   "outputs": [
    {
     "data": {
      "text/plain": [
       "array([[[3, 4, 0, 1],\n",
       "        [3, 0, 0, 1],\n",
       "        [4, 4, 1, 2],\n",
       "        [4, 2, 4, 3],\n",
       "        [4, 2, 4, 2],\n",
       "        [4, 1, 1, 0],\n",
       "        [1, 1, 1, 1],\n",
       "        [0, 4, 1, 0],\n",
       "        [0, 3, 2, 1],\n",
       "        [0, 3, 1, 1]]])"
      ]
     },
     "execution_count": 151,
     "metadata": {},
     "output_type": "execute_result"
    }
   ],
   "source": [
    "inp"
   ]
  },
  {
   "cell_type": "code",
   "execution_count": 4,
   "metadata": {},
   "outputs": [],
   "source": [
    "from keras.layers import LSTM, BatchNormalization, Activation, Dropout\n",
    "\n"
   ]
  },
  {
   "cell_type": "code",
   "execution_count": 9,
   "metadata": {},
   "outputs": [
    {
     "name": "stdout",
     "output_type": "stream",
     "text": [
      "_________________________________________________________________\n",
      "Layer (type)                 Output Shape              Param #   \n",
      "=================================================================\n",
      "input_5 (InputLayer)         (None, 1292, 128)         0         \n",
      "_________________________________________________________________\n",
      "conv1d_8 (Conv1D)            (None, 1288, 128)         82048     \n",
      "_________________________________________________________________\n",
      "batch_normalization_8 (Batch (None, 1288, 128)         512       \n",
      "_________________________________________________________________\n",
      "max_pooling1d_7 (MaxPooling1 (None, 644, 128)          0         \n",
      "_________________________________________________________________\n",
      "dropout_7 (Dropout)          (None, 644, 128)          0         \n",
      "_________________________________________________________________\n",
      "conv1d_9 (Conv1D)            (None, 642, 256)          98560     \n",
      "_________________________________________________________________\n",
      "batch_normalization_9 (Batch (None, 642, 256)          1024      \n",
      "_________________________________________________________________\n",
      "max_pooling1d_8 (MaxPooling1 (None, 214, 256)          0         \n",
      "_________________________________________________________________\n",
      "dropout_8 (Dropout)          (None, 214, 256)          0         \n",
      "=================================================================\n",
      "Total params: 182,144\n",
      "Trainable params: 181,376\n",
      "Non-trainable params: 768\n",
      "_________________________________________________________________\n"
     ]
    }
   ],
   "source": [
    "inp = Input(shape=(1292, 128))\n",
    "\n",
    "x = Conv1D(filters=128, kernel_size=4)(inp)\n",
    "x = BatchNormalization()(x)\n",
    "x = Activation('relu')(x)\n",
    "x = MaxPooling1D()(x)\n",
    "x = Dropout(0.5)(x)\n",
    "\n",
    "x = Conv1D(filters=256, kernel_size=4)(x)\n",
    "x = BatchNormalization()(x)\n",
    "x = Activation('relu')(x)\n",
    "x = MaxPooling1D()(x)\n",
    "x = Dropout(0.5)(x)\n",
    "\n",
    "x = Cu(256, return_sequences=True)(x)\n",
    "model = Model(inputs=inp, outputs=x)\n",
    "model.summary()"
   ]
  },
  {
   "cell_type": "code",
   "execution_count": null,
   "metadata": {},
   "outputs": [],
   "source": []
  },
  {
   "cell_type": "code",
   "execution_count": null,
   "metadata": {},
   "outputs": [],
   "source": []
  }
 ],
 "metadata": {
  "kernelspec": {
   "display_name": "Python 3",
   "language": "python",
   "name": "python3"
  },
  "language_info": {
   "codemirror_mode": {
    "name": "ipython",
    "version": 3
   },
   "file_extension": ".py",
   "mimetype": "text/x-python",
   "name": "python",
   "nbconvert_exporter": "python",
   "pygments_lexer": "ipython3",
   "version": "3.6.6"
  }
 },
 "nbformat": 4,
 "nbformat_minor": 2
}
