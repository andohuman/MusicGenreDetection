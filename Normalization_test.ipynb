{
 "cells": [
  {
   "cell_type": "code",
   "execution_count": 1,
   "metadata": {},
   "outputs": [
    {
     "name": "stderr",
     "output_type": "stream",
     "text": [
      "Using TensorFlow backend.\n"
     ]
    }
   ],
   "source": [
    "import numpy as np\n",
    "import pandas as pd \n",
    "import librosa\n",
    "from keras.preprocessing.sequence import pad_sequences"
   ]
  },
  {
   "cell_type": "code",
   "execution_count": 5,
   "metadata": {},
   "outputs": [],
   "source": [
    "sound_file_paths = ['fma_small/001/001482.mp3', 'fma_small/001/001443.mp3', 'fma_small/001/001197.mp3', 'fma_small/000/000002.mp3', 'fma_small/011/011638.mp3', 'fma_small/011/011672.mp3', 'fma_small/010/010809.mp3', 'fma_small/010/010677.mp3']\n",
    "                     \n",
    "sound_names =['Electronic', 'Experimental', 'Folk', 'Hip-Hop', 'Instrumental', 'International', 'Pop', 'Rock']\n",
    "\n",
    "def load_sound_files(file_paths):\n",
    "    raw_sounds = []\n",
    "    for fp in file_paths:\n",
    "        X,sr = librosa.load(fp, duration=30)\n",
    "        X = librosa.util.fix_length(X, 661500)\n",
    "        raw_sounds.append(X)\n",
    "    return raw_sounds"
   ]
  },
  {
   "cell_type": "code",
   "execution_count": 6,
   "metadata": {},
   "outputs": [],
   "source": [
    "raw_sounds = load_sound_files(sound_file_paths)\n",
    "#raw_sounds = pad_sequences(np.asarray(raw_sounds), maxlen=661500, dtype='float32', padding='pre', truncating='post')"
   ]
  },
  {
   "cell_type": "markdown",
   "metadata": {},
   "source": [
    "MEL NORMALIZATION"
   ]
  },
  {
   "cell_type": "code",
   "execution_count": 8,
   "metadata": {},
   "outputs": [],
   "source": [
    "def ret_mel(raw_sounds):\n",
    "    mel = []\n",
    "    for i in raw_sounds:\n",
    "        mel.append(librosa.feature.melspectrogram(y=i, sr=22050))\n",
    "    return mel\n"
   ]
  },
  {
   "cell_type": "code",
   "execution_count": 10,
   "metadata": {},
   "outputs": [],
   "source": [
    "mel = ret_mel(raw_sounds)\n",
    "mel = np.asarray(mel)\n"
   ]
  },
  {
   "cell_type": "code",
   "execution_count": 11,
   "metadata": {},
   "outputs": [
    {
     "name": "stdout",
     "output_type": "stream",
     "text": [
      "6302.492540431119 2.8640542053326805e-10\n"
     ]
    }
   ],
   "source": [
    "mel.shape\n",
    "print(np.max(mel), np.min(mel))"
   ]
  },
  {
   "cell_type": "code",
   "execution_count": 52,
   "metadata": {},
   "outputs": [],
   "source": [
    "mel_mean = np.mean(mel)\n",
    "mel_std = np.std(mel)"
   ]
  },
  {
   "cell_type": "code",
   "execution_count": 53,
   "metadata": {},
   "outputs": [],
   "source": [
    "mel_norm = (mel - mel_mean)/mel_std"
   ]
  },
  {
   "cell_type": "code",
   "execution_count": 54,
   "metadata": {},
   "outputs": [
    {
     "name": "stdout",
     "output_type": "stream",
     "text": [
      "70.583889831613 -0.12268644952447269\n"
     ]
    }
   ],
   "source": [
    "print(np.max(mel_norm), np.min(mel_norm))"
   ]
  },
  {
   "cell_type": "code",
   "execution_count": 55,
   "metadata": {},
   "outputs": [
    {
     "data": {
      "text/plain": [
       "1.0000000000000009"
      ]
     },
     "execution_count": 55,
     "metadata": {},
     "output_type": "execute_result"
    }
   ],
   "source": [
    "np.var(mel_norm)"
   ]
  },
  {
   "cell_type": "code",
   "execution_count": 80,
   "metadata": {},
   "outputs": [],
   "source": [
    "csv = pd.read_csv('valid_set.csv')\n",
    "files = csv['path'].values"
   ]
  },
  {
   "cell_type": "code",
   "execution_count": 75,
   "metadata": {},
   "outputs": [],
   "source": [
    "from tqdm import tqdm"
   ]
  },
  {
   "cell_type": "code",
   "execution_count": 84,
   "metadata": {},
   "outputs": [
    {
     "name": "stderr",
     "output_type": "stream",
     "text": [
      "100%|█████████████████████████████████████████████████████████████████████████████████████████████████████| 400/400 [07:30<00:00,  1.13s/it]\n"
     ]
    }
   ],
   "source": [
    "def load_pad_mel_find_mean_and_std(file_paths):\n",
    "    mel_global = []\n",
    "    for fp in tqdm(file_paths):\n",
    "        x,_=librosa.load(fp)\n",
    "        x = librosa.util.fix_length(x, 661500)\n",
    "        mel_global.append(librosa.feature.melspectrogram(y=x, sr=22050))\n",
    "        \n",
    "    return mel_global\n",
    "        \n",
    "mel_global = load_pad_mel_find_mean_and_std(files)\n",
    "        \n",
    "        \n",
    "        \n",
    "    "
   ]
  },
  {
   "cell_type": "code",
   "execution_count": 85,
   "metadata": {},
   "outputs": [],
   "source": [
    "mel_mean = np.mean(mel_global)\n",
    "mel_std = np.std(mel_global)"
   ]
  },
  {
   "cell_type": "code",
   "execution_count": 86,
   "metadata": {},
   "outputs": [],
   "source": [
    "mel_norm = (mel_global - mel_mean)/mel_std\n"
   ]
  },
  {
   "cell_type": "code",
   "execution_count": 92,
   "metadata": {},
   "outputs": [
    {
     "name": "stdout",
     "output_type": "stream",
     "text": [
      "-1.5645895312047213e-16\n"
     ]
    }
   ],
   "source": [
    "print(np.mean(mel_norm))"
   ]
  },
  {
   "cell_type": "code",
   "execution_count": 89,
   "metadata": {},
   "outputs": [],
   "source": [
    "import json\n",
    "\n",
    "meta = {'mel_mean':mel_mean, 'mel_std':mel_std}\n",
    "\n",
    "with open('meta.json', 'w') as out:\n",
    "    json.dump(meta, out)"
   ]
  },
  {
   "cell_type": "code",
   "execution_count": 63,
   "metadata": {},
   "outputs": [
    {
     "data": {
      "text/plain": [
       "1"
      ]
     },
     "execution_count": 63,
     "metadata": {},
     "output_type": "execute_result"
    }
   ],
   "source": [
    "x = librosa.util.fix_length(x, 1)\n",
    "len(x)"
   ]
  },
  {
   "cell_type": "markdown",
   "metadata": {},
   "source": [
    "CHROMA NORMALIZATION"
   ]
  },
  {
   "cell_type": "code",
   "execution_count": 11,
   "metadata": {},
   "outputs": [],
   "source": [
    "def ret_chroma(raw_sounds):\n",
    "    chroma = []\n",
    "    for i in raw_sounds:\n",
    "        chroma.append(librosa.feature.chroma_stft(y=i, sr=22050))\n",
    "    return chroma"
   ]
  },
  {
   "cell_type": "code",
   "execution_count": 12,
   "metadata": {},
   "outputs": [],
   "source": [
    "chroma = ret_chroma(raw_sounds)"
   ]
  },
  {
   "cell_type": "code",
   "execution_count": 16,
   "metadata": {},
   "outputs": [],
   "source": [
    "chroma=np.asarray(chroma)"
   ]
  },
  {
   "cell_type": "code",
   "execution_count": 27,
   "metadata": {},
   "outputs": [],
   "source": [
    "def load_pad_chroma_find_mean_and_std(file_paths):\n",
    "    chroma_global = []\n",
    "    for fp in tqdm(file_paths):\n",
    "        x,_=librosa.load(fp)\n",
    "        x = librosa.util.fix_length(x, 661500)\n",
    "        chroma_global.append(librosa.feature.chroma_stft(y=x, sr=22050))\n",
    "        \n",
    "    return chroma_global"
   ]
  },
  {
   "cell_type": "code",
   "execution_count": 28,
   "metadata": {},
   "outputs": [
    {
     "name": "stderr",
     "output_type": "stream",
     "text": [
      "100%|████████████████████████████████████████████████████████████████████████████████████████████████████████████████████████████████████████████████████████████████| 400/400 [08:12<00:00,  1.23s/it]\n"
     ]
    }
   ],
   "source": [
    "from tqdm import tqdm\n",
    "chroma_global = load_pad_chroma_find_mean_and_std(pd.read_csv('valid_set.csv')['path'].values)"
   ]
  },
  {
   "cell_type": "code",
   "execution_count": 30,
   "metadata": {},
   "outputs": [
    {
     "name": "stdout",
     "output_type": "stream",
     "text": [
      "0.0\n"
     ]
    }
   ],
   "source": [
    "print(np.min(chroma_global))"
   ]
  },
  {
   "cell_type": "markdown",
   "metadata": {},
   "source": [
    "MFCC"
   ]
  },
  {
   "cell_type": "code",
   "execution_count": 31,
   "metadata": {},
   "outputs": [],
   "source": [
    "def ret_mfcc(raw_sounds):\n",
    "    mfcc = []\n",
    "    for i in raw_sounds:\n",
    "        mfcc.append(librosa.feature.mfcc(y=i, sr=22050))\n",
    "    return mfcc\n",
    "\n",
    "mfcc = ret_mfcc(raw_sounds)\n",
    "mfcc = np.asarray(mfcc)"
   ]
  },
  {
   "cell_type": "code",
   "execution_count": 34,
   "metadata": {},
   "outputs": [],
   "source": [
    "def load_pad_mfcc_find_mean_and_std(file_paths):\n",
    "    mfcc_global = []\n",
    "    for fp in tqdm(file_paths):\n",
    "        x,_=librosa.load(fp)\n",
    "        x = librosa.util.fix_length(x, 661500)\n",
    "        mfcc_global.append(librosa.feature.mfcc(y=x, sr=22050))\n",
    "        \n",
    "    return mfcc_global"
   ]
  },
  {
   "cell_type": "code",
   "execution_count": 35,
   "metadata": {},
   "outputs": [
    {
     "name": "stderr",
     "output_type": "stream",
     "text": [
      "100%|████████████████████████████████████████████████████████████████████████████████████████████████████████████████████████████████████████████████████████████████| 400/400 [07:15<00:00,  1.09s/it]\n"
     ]
    }
   ],
   "source": [
    "mfcc_global = load_pad_mfcc_find_mean_and_std(pd.read_csv('valid_set.csv')['path'].values)"
   ]
  },
  {
   "cell_type": "code",
   "execution_count": 37,
   "metadata": {},
   "outputs": [
    {
     "name": "stdout",
     "output_type": "stream",
     "text": [
      "-0.2543133366799549 50.13435542236795\n"
     ]
    }
   ],
   "source": [
    "print(np.mean(mfcc_global), np.std(mfcc_global))"
   ]
  },
  {
   "cell_type": "markdown",
   "metadata": {},
   "source": [
    "Spectral Contrast"
   ]
  },
  {
   "cell_type": "code",
   "execution_count": 38,
   "metadata": {},
   "outputs": [],
   "source": [
    "def ret_spec(raw_sounds):\n",
    "    spec = []\n",
    "    for i in raw_sounds:\n",
    "        spec.append(librosa.feature.spectral_contrast(y=i, sr=22050))\n",
    "    return spec\n",
    "\n",
    "spec = ret_spec(raw_sounds)\n",
    "spec = np.asarray(spec)"
   ]
  },
  {
   "cell_type": "code",
   "execution_count": 41,
   "metadata": {},
   "outputs": [],
   "source": [
    "def load_pad_spec_find_mean_and_std(file_paths):\n",
    "    spec_global = []\n",
    "    for fp in tqdm(file_paths):\n",
    "        x,_=librosa.load(fp)\n",
    "        x = librosa.util.fix_length(x, 661500)\n",
    "        spec_global.append(librosa.feature.spectral_contrast(y=x, sr=22050))\n",
    "        \n",
    "    return mfcc_global"
   ]
  },
  {
   "cell_type": "code",
   "execution_count": 42,
   "metadata": {},
   "outputs": [
    {
     "name": "stderr",
     "output_type": "stream",
     "text": [
      "100%|████████████████████████████████████████████████████████████████████████████████████████████████████████████████████████████████████████████████████████████████| 400/400 [07:28<00:00,  1.12s/it]\n"
     ]
    }
   ],
   "source": [
    "spec_global = load_pad_spec_find_mean_and_std(pd.read_csv('valid_set.csv')['path'].values)"
   ]
  },
  {
   "cell_type": "code",
   "execution_count": 44,
   "metadata": {},
   "outputs": [
    {
     "data": {
      "text/plain": [
       "-595.0595575829223"
      ]
     },
     "execution_count": 44,
     "metadata": {},
     "output_type": "execute_result"
    }
   ],
   "source": [
    "np.min(spec_global)"
   ]
  },
  {
   "cell_type": "code",
   "execution_count": 45,
   "metadata": {},
   "outputs": [
    {
     "data": {
      "text/plain": [
       "315.91045594952527"
      ]
     },
     "execution_count": 45,
     "metadata": {},
     "output_type": "execute_result"
    }
   ],
   "source": [
    "np.max(spec_global)"
   ]
  },
  {
   "cell_type": "markdown",
   "metadata": {},
   "source": [
    "Tonnetz"
   ]
  },
  {
   "cell_type": "code",
   "execution_count": 46,
   "metadata": {},
   "outputs": [],
   "source": [
    "def ret_tonn(raw_sounds):\n",
    "    tonn = []\n",
    "    for i in raw_sounds:\n",
    "        tonn.append(librosa.feature.tonnetz(y=i, sr=22050))\n",
    "    return tonn\n",
    "\n",
    "tonn = ret_tonn(raw_sounds)\n",
    "tonn = np.asarray(tonn)"
   ]
  },
  {
   "cell_type": "code",
   "execution_count": 47,
   "metadata": {},
   "outputs": [
    {
     "name": "stderr",
     "output_type": "stream",
     "text": [
      "100%|████████████████████████████████████████████████████████████████████████████████████████████████████████████████████████████████████████████████████████████████| 400/400 [09:49<00:00,  1.47s/it]\n"
     ]
    }
   ],
   "source": [
    "def load_pad_tonn_find_mean_and_std(file_paths):\n",
    "    tonn_global = []\n",
    "    for fp in tqdm(file_paths):\n",
    "        x,_=librosa.load(fp)\n",
    "        x = librosa.util.fix_length(x, 661500)\n",
    "        tonn_global.append(librosa.feature.tonnetz(y=x, sr=22050))\n",
    "        \n",
    "    return tonn_global\n",
    "\n",
    "tonn_global = load_pad_tonn_find_mean_and_std(pd.read_csv('valid_set.csv')['path'].values)"
   ]
  },
  {
   "cell_type": "code",
   "execution_count": 54,
   "metadata": {},
   "outputs": [
    {
     "data": {
      "text/plain": [
       "1.0052154677337766"
      ]
     },
     "execution_count": 54,
     "metadata": {},
     "output_type": "execute_result"
    }
   ],
   "source": [
    "np.max(tonn_global) + np.min(tonn_global)*-1"
   ]
  },
  {
   "cell_type": "code",
   "execution_count": 52,
   "metadata": {},
   "outputs": [
    {
     "data": {
      "text/plain": [
       "-0.44475080330173306"
      ]
     },
     "execution_count": 52,
     "metadata": {},
     "output_type": "execute_result"
    }
   ],
   "source": [
    " np.min(tonn_global)"
   ]
  },
  {
   "cell_type": "code",
   "execution_count": 2,
   "metadata": {},
   "outputs": [],
   "source": [
    "import json "
   ]
  },
  {
   "cell_type": "code",
   "execution_count": 3,
   "metadata": {},
   "outputs": [],
   "source": [
    "data = open('metadata/mel_data.json').read()\n",
    "data = json.loads(data)"
   ]
  },
  {
   "cell_type": "code",
   "execution_count": 4,
   "metadata": {},
   "outputs": [
    {
     "name": "stdout",
     "output_type": "stream",
     "text": [
      "{'mel_max': 18517.816701982778, 'mel_min': 0.0, 'mel_mean': 9.98822179823947, 'mel_std': 93.36492545254515}\n"
     ]
    }
   ],
   "source": [
    "print(data)"
   ]
  },
  {
   "cell_type": "code",
   "execution_count": 12,
   "metadata": {},
   "outputs": [],
   "source": [
    "mel_norm = (mel - data['mel_min'])/(data['mel_max'] - data['mel_min'])"
   ]
  },
  {
   "cell_type": "code",
   "execution_count": 18,
   "metadata": {},
   "outputs": [],
   "source": [
    "metadata = {}\n",
    "for feature in ['mel', 'chroma', 'mfcc', 'spec', 'tonn']:\n",
    "    metadata[feature] = json.loads(open('metadata/'+feature+'_data.json').read())"
   ]
  },
  {
   "cell_type": "code",
   "execution_count": 19,
   "metadata": {},
   "outputs": [
    {
     "name": "stdout",
     "output_type": "stream",
     "text": [
      "{'mel': {'mel_max': 18517.816701982778, 'mel_min': 0.0, 'mel_mean': 9.98822179823947, 'mel_std': 93.36492545254515}, 'chroma': {'chroma_max': 1.0, 'chroma_min': 0.0, 'chroma_mean': 0.377188293279868, 'chroma_std': 0.30716744338370644}, 'mfcc': {'mfcc_max': 303.49173728261627, 'mfcc_min': -1131.370849898476, 'mfcc_mean': -0.4252381814461332, 'mfcc_std': 51.306895577820946}, 'spec': {'spec_max': 95.36324960456079, 'spec_min': 0.0, 'spec_mean': 21.54160757401616, 'spec_std': 7.535548742967263}, 'tonn': {'tonn_max': 0.6656872958911089, 'tonn_min': -0.4680074320900417, 'tonn_mean': 0.0037642607551096213, 'tonn_std': 0.07690120648976552}}\n"
     ]
    }
   ],
   "source": [
    "print(metadata)"
   ]
  },
  {
   "cell_type": "code",
   "execution_count": 20,
   "metadata": {},
   "outputs": [],
   "source": [
    "with open('metadata.json','w') as f:\n",
    "    json.dump(metadata, f)"
   ]
  },
  {
   "cell_type": "code",
   "execution_count": 21,
   "metadata": {},
   "outputs": [
    {
     "data": {
      "text/plain": [
       "9.98822179823947"
      ]
     },
     "execution_count": 21,
     "metadata": {},
     "output_type": "execute_result"
    }
   ],
   "source": [
    "metadata['mel']['mel_mean']"
   ]
  },
  {
   "cell_type": "code",
   "execution_count": null,
   "metadata": {},
   "outputs": [],
   "source": []
  }
 ],
 "metadata": {
  "kernelspec": {
   "display_name": "Python 3",
   "language": "python",
   "name": "python3"
  },
  "language_info": {
   "codemirror_mode": {
    "name": "ipython",
    "version": 3
   },
   "file_extension": ".py",
   "mimetype": "text/x-python",
   "name": "python",
   "nbconvert_exporter": "python",
   "pygments_lexer": "ipython3",
   "version": "3.6.6"
  }
 },
 "nbformat": 4,
 "nbformat_minor": 2
}
